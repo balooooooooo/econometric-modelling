{
 "cells": [
  {
   "cell_type": "code",
   "execution_count": null,
   "id": "initial_id",
   "metadata": {
    "collapsed": true,
    "is_executing": true
   },
   "outputs": [],
   "source": [
    "import pandas as pd\n",
    "import matplotlib.pyplot as plt\n",
    "import numpy as np\n",
    "import statsmodels.api as sm\n",
    "import matplotlib.ticker as ticker\n",
    "import matplotlib.dates as mdates\n",
    "import pmdarima as pmd\n",
    "from sklearn.metrics import mean_squared_error as MSE\n",
    "from sklearn.metrics import mean_absolute_error as MAE"
   ]
  },
  {
   "cell_type": "markdown",
   "source": [
    "### Read the data"
   ],
   "metadata": {
    "collapsed": false
   },
   "id": "a6ae9c1797eef020"
  },
  {
   "cell_type": "code",
   "execution_count": null,
   "outputs": [],
   "source": [
    "df  = pd.read_csv('AAPL.csv')"
   ],
   "metadata": {
    "collapsed": false,
    "is_executing": true
   },
   "id": "c7ffaf46f17d9c65"
  },
  {
   "cell_type": "code",
   "execution_count": null,
   "outputs": [],
   "source": [
    "df.shape"
   ],
   "metadata": {
    "collapsed": false,
    "is_executing": true
   },
   "id": "22639d47785ecc15"
  },
  {
   "cell_type": "markdown",
   "source": [
    "### Describe \n"
   ],
   "metadata": {
    "collapsed": false
   },
   "id": "ae93e7d582d107a0"
  },
  {
   "cell_type": "code",
   "execution_count": null,
   "outputs": [],
   "source": [
    "df.describe()"
   ],
   "metadata": {
    "collapsed": false,
    "is_executing": true
   },
   "id": "cc68eb0a712e0e"
  },
  {
   "cell_type": "code",
   "execution_count": null,
   "outputs": [],
   "source": [
    "df"
   ],
   "metadata": {
    "collapsed": false,
    "is_executing": true
   },
   "id": "1dc4bbb69ad407ec"
  },
  {
   "cell_type": "code",
   "execution_count": null,
   "outputs": [],
   "source": [
    "df[df.isna()].sum() # no NA "
   ],
   "metadata": {
    "collapsed": false,
    "is_executing": true
   },
   "id": "c585b67a5e2c6307"
  },
  {
   "cell_type": "code",
   "execution_count": null,
   "outputs": [],
   "source": [
    "df['Moving_Avg'] = df['Close'].rolling(window=30).mean()"
   ],
   "metadata": {
    "collapsed": false,
    "is_executing": true
   },
   "id": "d1d11f7dd3fd165e"
  },
  {
   "cell_type": "code",
   "execution_count": null,
   "outputs": [],
   "source": [
    "df['Date'] = pd.to_datetime(df['Date'])"
   ],
   "metadata": {
    "collapsed": false,
    "is_executing": true
   },
   "id": "13044a57cee9f328"
  },
  {
   "cell_type": "code",
   "execution_count": null,
   "outputs": [],
   "source": [
    "plt.figure(figsize=(20,6))\n",
    "plt.plot(df['Date'], df['Close'], label = 'Close price')\n",
    "# plt.plot(df['Date'], df['Moving_Avg'], color='red', label='30-Day Moving Average', alpha=0.7)\n",
    "plt.gca().xaxis.set_major_locator(mdates.YearLocator())\n",
    "plt.gca().xaxis.set_major_formatter(mdates.DateFormatter('%Y'))\n",
    "plt.grid(True)\n",
    "plt.xticks(rotation=45)\n",
    "plt.ylabel('Price in USD')\n",
    "plt.xlabel('Time')\n",
    "plt.title(\"Closing price of AAPL over time.\")\n",
    "plt.legend()\n",
    "plt.savefig(f\"daily_stock_price.pdf\", format=\"pdf\", dpi=500, bbox_inches = \"tight\")\n",
    "plt.show()"
   ],
   "metadata": {
    "collapsed": false,
    "is_executing": true
   },
   "id": "747b12ac2e11b406"
  },
  {
   "cell_type": "code",
   "execution_count": null,
   "outputs": [],
   "source": [
    "df['Month_Year'] = df['Date'].dt.to_period('M')\n"
   ],
   "metadata": {
    "collapsed": false,
    "is_executing": true
   },
   "id": "98124c32e3e93c5c"
  },
  {
   "cell_type": "code",
   "execution_count": null,
   "outputs": [],
   "source": [
    "last_days = df.groupby('Month_Year').tail(1)\n",
    "\n",
    "# Reset the index if needed\n",
    "last_days.reset_index(drop=True, inplace=True)\n",
    "last_days.set_index('Month_Year')"
   ],
   "metadata": {
    "collapsed": false,
    "is_executing": true
   },
   "id": "40f39df1c8faaf85"
  },
  {
   "cell_type": "code",
   "execution_count": null,
   "outputs": [],
   "source": [
    "df = last_days"
   ],
   "metadata": {
    "collapsed": false,
    "is_executing": true
   },
   "id": "fc29d67b1c2b58e8"
  },
  {
   "cell_type": "code",
   "execution_count": null,
   "outputs": [],
   "source": [
    "df"
   ],
   "metadata": {
    "collapsed": false,
    "is_executing": true
   },
   "id": "759e2e4bc850215e"
  },
  {
   "cell_type": "code",
   "execution_count": null,
   "outputs": [],
   "source": [
    "plt.figure(figsize=(20,6))\n",
    "plt.plot(df['Date'], df['Close'], label = 'Close price', )\n",
    "# plt.plot(df['Date'], df['Moving_Avg'], color='red', label='14-Day Moving Average', alpha= 0.7)\n",
    "plt.gca().xaxis.set_major_locator(mdates.YearLocator())\n",
    "plt.gca().xaxis.set_major_formatter(mdates.DateFormatter('%Y'))\n",
    "plt.grid(True)\n",
    "plt.xticks(rotation=45)\n",
    "plt.ylabel('Price in USD')\n",
    "plt.xlabel('Time')\n",
    "plt.title(\"Closing price of AAPL over time.\")\n",
    "plt.legend()\n",
    "plt.savefig(f\"last_days_price.pdf\", format=\"pdf\", dpi=500, bbox_inches = \"tight\")\n",
    "plt.show()"
   ],
   "metadata": {
    "collapsed": false,
    "is_executing": true
   },
   "id": "a6bda37471a66849"
  },
  {
   "cell_type": "code",
   "execution_count": null,
   "outputs": [],
   "source": [
    "df = df[df['Date'] >= '2010-01-01'].copy()\n",
    "\n",
    "df_new = df[df['Date'] >= '2010-01-01'].copy()\n",
    "# df_new['Moving_Avg'] = df_new['Close'].rolling(window=14).mean()\n",
    "\n",
    "plt.figure(figsize=(20, 6))\n",
    "plt.plot(df_new['Date'], df_new['Close'], label='Close Price')\n",
    "# plt.plot(df_new['Date'], df_new['Moving_Avg'], color='red', label='30-Day Moving Average')\n",
    "plt.gca().xaxis.set_major_locator(mdates.YearLocator())\n",
    "plt.gca().xaxis.set_major_formatter(mdates.DateFormatter('%Y'))\n",
    "\n",
    "plt.grid(True)\n",
    "plt.xticks(rotation=45)\n",
    "plt.ylabel('Price in USD')\n",
    "plt.xlabel('Time')\n",
    "plt.title(\"Closing price of AAPL over time (2010 and newer)\")\n",
    "plt.savefig(f\"last_day_stock_price_after_2010.pdf\", format=\"pdf\", dpi=500, bbox_inches = \"tight\")\n",
    "\n",
    "plt.legend()\n",
    "plt.show()"
   ],
   "metadata": {
    "collapsed": false,
    "is_executing": true
   },
   "id": "e85cf2dd18c0eede"
  },
  {
   "cell_type": "code",
   "execution_count": null,
   "outputs": [],
   "source": [
    "# df = df[df['Date'] >= '2013-01-01']"
   ],
   "metadata": {
    "collapsed": false,
    "is_executing": true
   },
   "id": "742835d2d8ca290e"
  },
  {
   "cell_type": "code",
   "execution_count": null,
   "outputs": [],
   "source": [
    "df"
   ],
   "metadata": {
    "collapsed": false,
    "is_executing": true
   },
   "id": "898f9f21aad46df2"
  },
  {
   "cell_type": "markdown",
   "source": [],
   "metadata": {
    "collapsed": false
   },
   "id": "9f65afc053199bf"
  },
  {
   "cell_type": "code",
   "execution_count": null,
   "outputs": [],
   "source": [
    "df_new.set_index('Date')\n",
    "res = sm.tsa.seasonal_decompose(df_new['Close'], model='multiplicative', period=12)\n",
    "res.plot()\n",
    "plt.savefig(f\"decomposition.pdf\", format=\"pdf\", dpi=500, bbox_inches = \"tight\")\n",
    "plt.show()"
   ],
   "metadata": {
    "collapsed": false,
    "is_executing": true
   },
   "id": "ee65c85a4eea06c5"
  },
  {
   "cell_type": "code",
   "execution_count": null,
   "outputs": [],
   "source": [
    "[i for i in range(df.shape[0])]"
   ],
   "metadata": {
    "collapsed": false,
    "is_executing": true
   },
   "id": "2c95b7591d389732"
  },
  {
   "cell_type": "code",
   "execution_count": null,
   "outputs": [],
   "source": [
    "df['Date'] = pd.to_datetime(df['Date'])\n",
    "\n",
    "# Extract month as a numerical value and create a new column 'Month'\n",
    "df['Month'] = df['Date'].dt.month"
   ],
   "metadata": {
    "collapsed": false,
    "is_executing": true
   },
   "id": "e29d41e567490f43"
  },
  {
   "cell_type": "code",
   "execution_count": null,
   "outputs": [],
   "source": [
    "X = [i for i in range(df.shape[0])]\n",
    "y = df['Close']\n",
    "\n",
    "# Fit the regression model\n",
    "model = sm.OLS(y, X).fit()\n",
    "\n",
    "# Step 4: Print the model summary\n",
    "print(model.summary())"
   ],
   "metadata": {
    "collapsed": false,
    "is_executing": true
   },
   "id": "29e938e181380076"
  },
  {
   "cell_type": "code",
   "execution_count": null,
   "outputs": [],
   "source": [
    "X = df['Month']\n",
    "y = df['Close']\n",
    "\n",
    "# Fit the regression model\n",
    "model = sm.OLS(y, X).fit()\n",
    "\n",
    "# Step 4: Print the model summary\n",
    "print(model.summary())"
   ],
   "metadata": {
    "collapsed": false,
    "is_executing": true
   },
   "id": "549c7d07c55e8b58"
  },
  {
   "cell_type": "code",
   "execution_count": null,
   "outputs": [],
   "source": [
    "res.seasonal.plot()\n",
    "plt.show()"
   ],
   "metadata": {
    "collapsed": false,
    "is_executing": true
   },
   "id": "3a43eb939365fc72"
  },
  {
   "cell_type": "code",
   "execution_count": null,
   "outputs": [],
   "source": [],
   "metadata": {
    "collapsed": false,
    "is_executing": true
   },
   "id": "44b862f33c72ad27"
  },
  {
   "cell_type": "markdown",
   "source": [
    "### Testing ACF and PACF\n",
    "\n",
    "\n",
    "- ACF decays slowly\n",
    "- PACF cuts off sharply at lag 1\n",
    "\n",
    "\n",
    "-> autoregressive process AR(1) "
   ],
   "metadata": {
    "collapsed": false
   },
   "id": "634ad303a1a8d030"
  },
  {
   "cell_type": "code",
   "execution_count": null,
   "outputs": [],
   "source": [
    "df['Close_diff'] = df['Close'] - df['Close'].shift()\n",
    "df['Close_second_diff'] = df['Close'].diff().diff()\n",
    "df_train = df[df['Date'] <= '2021-01-01'].copy()\n",
    "df_train = df_train[df_train['Date'] >= '2010-01-01'].copy()\n",
    "df_test  = df[df['Date'] >= '2021-01-01'].copy()"
   ],
   "metadata": {
    "collapsed": false,
    "is_executing": true
   },
   "id": "6b90eef288931bb3"
  },
  {
   "cell_type": "code",
   "execution_count": null,
   "outputs": [],
   "source": [
    "def test_stationarity(df, col):\n",
    "    result = sm.tsa.adfuller(df[col])\n",
    "    \n",
    "    adf_statistic = result[0]\n",
    "    p_value = result[1]\n",
    "    used_lag = result[2]\n",
    "    n_obs = result[3]\n",
    "    critical_values = result[4]\n",
    "    ic_best = result[5]\n",
    "    \n",
    "    print(f'ADF Statistic: {adf_statistic}')\n",
    "    print(f'p-value: {p_value}')\n",
    "    print(f'Used Lag: {used_lag}')\n",
    "    print(f'Number of Observations Used: {n_obs}')\n",
    "    print('Critical Values:')\n",
    "    for key, value in critical_values.items():\n",
    "        print(f'   {key}: {value}')\n",
    "    print(f'Best Information Criterion: {ic_best}')\n",
    "    \n",
    "    # Interpret the result\n",
    "    if p_value < 0.05:\n",
    "        print(\"The time series is stationary.\")\n",
    "    else:\n",
    "        print(\"The time series is not stationary.\")"
   ],
   "metadata": {
    "collapsed": false,
    "is_executing": true
   },
   "id": "5a303ccf93f19199"
  },
  {
   "cell_type": "code",
   "execution_count": null,
   "outputs": [],
   "source": [
    "test_stationarity(df, 'Close')"
   ],
   "metadata": {
    "collapsed": false,
    "is_executing": true
   },
   "id": "5c1465ae092697a9"
  },
  {
   "cell_type": "code",
   "execution_count": null,
   "outputs": [],
   "source": [
    "df['Close_diff'] = df['Close'].diff()\n",
    "df.dropna(inplace=True)\n",
    "test_stationarity(df, 'Close_diff')"
   ],
   "metadata": {
    "collapsed": false,
    "is_executing": true
   },
   "id": "b5454d78eb3f3b5e"
  },
  {
   "cell_type": "code",
   "execution_count": null,
   "outputs": [],
   "source": [
    "df.dropna(inplace=True)\n",
    "test_stationarity(df, 'Close_second_diff')"
   ],
   "metadata": {
    "collapsed": false,
    "is_executing": true
   },
   "id": "2398b2d898648b38"
  },
  {
   "cell_type": "code",
   "execution_count": null,
   "outputs": [],
   "source": [
    "plt.figure(figsize=(20,6))\n",
    "plt.plot(df_train['Date'], df_train['Close_second_diff'], label = 'Close price')\n",
    "plt.gca().xaxis.set_major_locator(mdates.YearLocator())\n",
    "plt.gca().xaxis.set_major_formatter(mdates.DateFormatter('%Y'))\n",
    "plt.grid(True)\n",
    "plt.xticks(rotation=45)\n",
    "plt.ylabel('Price increase in USD')\n",
    "plt.xlabel('Time')\n",
    "plt.title(\"Closing price of AAPL over time. Differenced.\")\n",
    "plt.legend()\n",
    "plt.savefig(f\"differenced_2.pdf\", format=\"pdf\", dpi=500, bbox_inches = \"tight\")\n",
    "plt.show()"
   ],
   "metadata": {
    "collapsed": false,
    "is_executing": true
   },
   "id": "db81166261b1644a"
  },
  {
   "cell_type": "code",
   "execution_count": null,
   "outputs": [],
   "source": [
    "def format_with_spaces(x, pos):\n",
    "    return f'{x:,.0f}'.replace(',', ' ')\n",
    "\n",
    "plt.figure(figsize=(20,6))\n",
    "plt.plot(df_train['Date'], df_train['Volume'], label = 'Close price')\n",
    "plt.ticklabel_format(style= 'plain', axis = 'y')\n",
    "plt.gca().xaxis.set_major_locator(mdates.YearLocator())\n",
    "plt.gca().xaxis.set_major_formatter(mdates.DateFormatter('%Y'))\n",
    "plt.gca().yaxis.set_major_formatter(ticker.FuncFormatter(format_with_spaces))\n",
    "plt.grid(True)\n",
    "plt.xticks(rotation=45)\n",
    "plt.ylabel('Volume of stocks traded.')\n",
    "plt.xlabel('Time')\n",
    "plt.title(\"Volume of AAPL stocks traded over time.\")\n",
    "plt.legend()\n",
    "plt.show()"
   ],
   "metadata": {
    "collapsed": false,
    "is_executing": true
   },
   "id": "93cf695f148ef52a"
  },
  {
   "cell_type": "code",
   "execution_count": null,
   "outputs": [],
   "source": [
    "#Plot ACF\n",
    "plt.figure(figsize=(10, 6))\n",
    "sm.graphics.tsa.plot_acf(df_train['Close'].dropna(), lags=15)\n",
    "plt.title('Autocorrelation Function (ACF) of AAPL Close Prices')\n",
    "plt.xlabel('Lags')\n",
    "plt.savefig(f\"acf.pdf\", format=\"pdf\", dpi=500, bbox_inches = \"tight\")\n",
    "plt.show()\n",
    "\n",
    "# Plot PACF\n",
    "plt.figure(figsize=(12, 6))\n",
    "sm.graphics.tsa.plot_pacf(df_train['Close'].dropna(), lags=15)\n",
    "plt.title('Partial Autocorrelation Function (PACF) of AAPL Close Prices')\n",
    "plt.xlabel('Lags')\n",
    "plt.savefig(f\"pacf.pdf\", format=\"pdf\", dpi=500, bbox_inches = \"tight\")\n",
    "plt.show()"
   ],
   "metadata": {
    "collapsed": false,
    "is_executing": true
   },
   "id": "547074fbc0b8bde6"
  },
  {
   "cell_type": "code",
   "execution_count": null,
   "outputs": [],
   "source": [
    "df_train.dropna(inplace=True)\n",
    "pmd.auto_arima(df_train['Close'],start_p=1,start_q=1,test='adf',m=12,seasonal=True, trace=True)"
   ],
   "metadata": {
    "collapsed": false,
    "is_executing": true
   },
   "id": "2d95f4baf453515b"
  },
  {
   "cell_type": "code",
   "execution_count": null,
   "outputs": [],
   "source": [
    "sarima=sm.tsa.SARIMAX(df_train['Close'].dropna(),order=(1,2,0),seasonal_order=(0,0,0,12))\n",
    "model = sarima.fit()\n",
    "predicted = model.predict()"
   ],
   "metadata": {
    "collapsed": false,
    "is_executing": true
   },
   "id": "fc466eedddbb5aad"
  },
  {
   "cell_type": "code",
   "execution_count": null,
   "outputs": [],
   "source": [
    "residuals = model.resid\n",
    "plt.figure(figsize=(12, 6))\n",
    "plt.plot(residuals, label='Residuals')\n",
    "plt.title('Residuals of SARIMA Model')\n",
    "plt.legend()\n",
    "plt.show()\n",
    "\n",
    "# Plot the squared residuals\n",
    "plt.figure(figsize=(12, 6))\n",
    "plt.plot(residuals**2, label='Squared Residuals')\n",
    "plt.title('Squared Residuals of SARIMA Model')\n",
    "plt.legend()\n",
    "plt.show()"
   ],
   "metadata": {
    "collapsed": false,
    "is_executing": true
   },
   "id": "c6f427bd6bf59c7e"
  },
  {
   "cell_type": "code",
   "execution_count": null,
   "outputs": [],
   "source": [
    "from statsmodels.stats.diagnostic import acorr_ljungbox\n",
    "\n",
    "# Perform the Ljung-Box test\n",
    "result = acorr_ljungbox(residuals)\n",
    "print(result)\n"
   ],
   "metadata": {
    "collapsed": false,
    "is_executing": true
   },
   "id": "b67e51998d360b08"
  },
  {
   "cell_type": "code",
   "execution_count": null,
   "outputs": [],
   "source": [
    "bp_test = sm.stats.diagnostic.het_breuschpagan(residuals, sm.add_constant(model.fittedvalues))\n",
    "bp_test_statistic = bp_test[0]\n",
    "bp_test_pvalue = bp_test[1]\n",
    "\n",
    "print(f'Breusch-Pagan test statistic: {bp_test_statistic}')\n",
    "print(f'Breusch-Pagan test p-value: {bp_test_pvalue}')"
   ],
   "metadata": {
    "collapsed": false,
    "is_executing": true
   },
   "id": "954b8f03dd66c697"
  },
  {
   "cell_type": "code",
   "execution_count": null,
   "outputs": [],
   "source": [
    "plt.figure(figsize=(20,6))\n",
    "plt.plot(df_train['Date'], df_train['Close'], label = 'Close price', color='blue')\n",
    "plt.plot(df_train['Date'], predicted, label = 'Prediction', color='yellow')\n",
    "plt.gca().xaxis.set_major_locator(mdates.YearLocator())\n",
    "plt.gca().xaxis.set_major_formatter(mdates.DateFormatter('%Y'))\n",
    "plt.grid(True)\n",
    "plt.xticks(rotation=45)\n",
    "plt.ylabel('Price increase in USD')\n",
    "plt.xlabel('Time')\n",
    "plt.title(\"Closing price of AAPL over time. Differenced.\")\n",
    "plt.legend()\n",
    "plt.show()\n",
    "MSE(df_train['Close'], predicted)\n",
    "forecast = model.forecast(15, exog = None)\n"
   ],
   "metadata": {
    "collapsed": false,
    "is_executing": true
   },
   "id": "2a3b1f9f5838023"
  },
  {
   "cell_type": "code",
   "execution_count": null,
   "outputs": [],
   "source": [
    "plt.figure(figsize=(20,6))\n",
    "plt.plot(df_train['Date'], df_train['Close'], label = 'Close price', color='blue', alpha= 0.8)\n",
    "plt.plot(df_test['Date'], df_test['Close'], color='blue')\n",
    "plt.plot(df_test['Date'], forecast, label = 'Forecast', color='red')\n",
    "plt.plot(df_train['Date'], predicted, label = 'Fit on Training data', color='orange', alpha = 0.8)\n",
    "\n",
    "# plt.plot(df_test['Date'], forecast, label = 'Prediction', color='yellow')\n",
    "plt.gca().xaxis.set_major_locator(mdates.YearLocator())\n",
    "plt.gca().xaxis.set_major_formatter(mdates.DateFormatter('%Y'))\n",
    "plt.grid(True)\n",
    "plt.xticks(rotation=45)\n",
    "plt.ylabel('Price increase in USD')\n",
    "plt.xlabel('Time')\n",
    "plt.title(\"Closing price of AAPL over time. Differenced.\")\n",
    "plt.legend()\n",
    "plt.show()\n",
    "\n",
    "print(MSE(df_train['Close'], predicted))\n",
    "print(MSE(df_test['Close'], forecast))\n",
    "\n",
    "\n",
    "print(MAE(df_train['Close'], predicted))\n",
    "print(MAE(df_test['Close'], forecast))"
   ],
   "metadata": {
    "collapsed": false,
    "is_executing": true
   },
   "id": "664b1dbe6e5f572a"
  },
  {
   "cell_type": "code",
   "execution_count": null,
   "outputs": [],
   "source": [
    "df['Log_Close'] = np.log(df['Close'])\n",
    "\n",
    "# Display the first few rows to verify the transformation\n",
    "print(df.head())\n",
    "\n",
    "# Plot the original and log-transformed Close price for comparison\n",
    "plt.figure(figsize=(14, 7))\n",
    "\n",
    "# Original Close price plot\n",
    "plt.subplot(2, 1, 1)\n",
    "plt.plot(df.index, df['Close'], label='Original Close Price')\n",
    "plt.title('Original Close Price')\n",
    "plt.xlabel('Date')\n",
    "plt.ylabel('Close Price')\n",
    "plt.legend()\n",
    "\n",
    "# Log-transformed Close price plot\n",
    "plt.subplot(2, 1, 2)\n",
    "plt.plot(df.index, df['Log_Close'], label='Log-transformed Close Price', color='orange')\n",
    "plt.title('Log-transformed Close Price')\n",
    "plt.xlabel('Date')\n",
    "plt.ylabel('Log(Close Price)')\n",
    "plt.legend()\n",
    "\n",
    "plt.tight_layout()\n",
    "plt.show()"
   ],
   "metadata": {
    "collapsed": false,
    "is_executing": true
   },
   "id": "12fb66d4fe28f08"
  },
  {
   "cell_type": "code",
   "execution_count": null,
   "outputs": [],
   "source": [
    "df['Close_diff'] = df['Close'] - df['Close'].shift()\n",
    "df['Log_Close_Diff'] = df['Log_Close'] - df['Log_Close'].shift()\n",
    "df.dropna(inplace=True)\n",
    "df_train = df[df['Date'] <= '2021-01-01'].copy()\n",
    "df_train = df_train[df_train['Date'] >= '2010-01-01'].copy()\n",
    "df_test  = df[df['Date'] >= '2021-01-01'].copy()"
   ],
   "metadata": {
    "collapsed": false,
    "is_executing": true
   },
   "id": "c189126d3c9f0de9"
  },
  {
   "cell_type": "code",
   "execution_count": null,
   "outputs": [],
   "source": [
    "test_stationarity(df, 'Log_Close')"
   ],
   "metadata": {
    "collapsed": false,
    "is_executing": true
   },
   "id": "d4fb5dea7f1e7978"
  },
  {
   "cell_type": "code",
   "execution_count": null,
   "outputs": [],
   "source": [
    "df['Log_Close_Diff']"
   ],
   "metadata": {
    "collapsed": false,
    "is_executing": true
   },
   "id": "eb6054163dfb9b20"
  },
  {
   "cell_type": "code",
   "execution_count": null,
   "outputs": [],
   "source": [
    "test_stationarity(df, 'Log_Close_Diff')"
   ],
   "metadata": {
    "collapsed": false,
    "is_executing": true
   },
   "id": "55fdd3989548efd9"
  },
  {
   "cell_type": "code",
   "execution_count": null,
   "outputs": [],
   "source": [
    "#Plot ACF\n",
    "plt.figure(figsize=(10, 6))\n",
    "sm.graphics.tsa.plot_acf(df_train['Log_Close'].dropna(), lags=10)\n",
    "plt.title('Autocorrelation Function (ACF) of AAPL Close Prices')\n",
    "plt.xlabel('Lags')\n",
    "plt.show()\n",
    "\n",
    "# Plot PACF\n",
    "plt.figure(figsize=(12, 6))\n",
    "sm.graphics.tsa.plot_pacf(df_train['Log_Close'].dropna(), lags=10)\n",
    "plt.title('Partial Autocorrelation Function (PACF) of AAPL Close Prices')\n",
    "plt.xlabel('Lags')\n",
    "plt.show()"
   ],
   "metadata": {
    "collapsed": false,
    "is_executing": true
   },
   "id": "b899c89c8a66dcbe"
  },
  {
   "cell_type": "code",
   "execution_count": null,
   "outputs": [],
   "source": [
    "sarima=sm.tsa.SARIMAX(df_train['Log_Close'],order=(2,2,0),seasonal_order=(0,1,0,12))\n",
    "model = sarima.fit()\n",
    "predicted = model.predict()"
   ],
   "metadata": {
    "collapsed": false,
    "is_executing": true
   },
   "id": "d2abd11f32630be3"
  },
  {
   "cell_type": "code",
   "execution_count": null,
   "outputs": [],
   "source": [
    "residuals = model.resid[1:]\n",
    "plt.figure(figsize=(12, 6))\n",
    "plt.plot(residuals, label='Residuals')\n",
    "plt.title('Residuals of SARIMA Model')\n",
    "plt.legend()\n",
    "plt.show()\n",
    "\n",
    "# Plot the squared residuals\n",
    "plt.figure(figsize=(12, 6))\n",
    "plt.plot(residuals**2, label='Squared Residuals')\n",
    "plt.title('Squared Residuals of SARIMA Model')\n",
    "plt.legend()\n",
    "plt.show()"
   ],
   "metadata": {
    "collapsed": false,
    "is_executing": true
   },
   "id": "329f0fa4c01be897"
  },
  {
   "cell_type": "code",
   "execution_count": null,
   "outputs": [],
   "source": [
    "result = acorr_ljungbox(residuals)\n",
    "print(result)"
   ],
   "metadata": {
    "collapsed": false,
    "is_executing": true
   },
   "id": "d2e576277615d598"
  },
  {
   "cell_type": "code",
   "execution_count": null,
   "outputs": [],
   "source": [
    "bp_test = sm.stats.diagnostic.het_breuschpagan(residuals, sm.add_constant(model.fittedvalues)[1:])\n",
    "bp_test_statistic = bp_test[0]\n",
    "bp_test_pvalue = bp_test[1]\n",
    "\n",
    "print(f'Breusch-Pagan test statistic: {bp_test_statistic}')\n",
    "print(f'Breusch-Pagan test p-value: {bp_test_pvalue}')"
   ],
   "metadata": {
    "collapsed": false,
    "is_executing": true
   },
   "id": "8532bfa833339a69"
  },
  {
   "cell_type": "code",
   "execution_count": null,
   "outputs": [],
   "source": [
    "forecast = model.forecast(15, exog = None)\n",
    "plt.figure(figsize=(20,6))\n",
    "plt.plot(df['Date'], df['Log_Close'], label = 'Close price', color='blue', alpha= 0.8)\n",
    "plt.plot(df_test['Date'], df_test['Log_Close'], color='blue')\n",
    "plt.plot(df_test['Date'], forecast, label = 'Forecast', color='red')\n",
    "plt.plot(df_train['Date'], predicted, label = 'Fit on Training data', color='orange', alpha = 0.8)\n",
    "\n",
    "# plt.plot(df_test['Date'], forecast, label = 'Prediction', color='yellow')\n",
    "plt.gca().xaxis.set_major_locator(mdates.YearLocator())\n",
    "plt.gca().xaxis.set_major_formatter(mdates.DateFormatter('%Y'))\n",
    "plt.grid(True)\n",
    "plt.xticks(rotation=45)\n",
    "plt.ylabel('Price increase in USD')\n",
    "plt.xlabel('Time')\n",
    "plt.title(\"Closing price of AAPL over time. Differenced.\")\n",
    "plt.legend()\n",
    "plt.show()\n",
    "\n",
    "print(MSE(df_train['Log_Close'], predicted))\n",
    "print(MSE(df_test['Log_Close'], forecast))\n",
    "\n",
    "\n",
    "print(MAE(df_train['Log_Close'], predicted))\n",
    "print(MAE(df_test['Log_Close'], forecast))"
   ],
   "metadata": {
    "collapsed": false,
    "is_executing": true
   },
   "id": "bbf4bb31b85754d5"
  }
 ],
 "metadata": {
  "kernelspec": {
   "display_name": "Python 3",
   "language": "python",
   "name": "python3"
  },
  "language_info": {
   "codemirror_mode": {
    "name": "ipython",
    "version": 2
   },
   "file_extension": ".py",
   "mimetype": "text/x-python",
   "name": "python",
   "nbconvert_exporter": "python",
   "pygments_lexer": "ipython2",
   "version": "2.7.6"
  }
 },
 "nbformat": 4,
 "nbformat_minor": 5
}
